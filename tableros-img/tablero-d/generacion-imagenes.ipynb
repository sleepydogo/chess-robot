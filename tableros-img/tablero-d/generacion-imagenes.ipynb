{
 "cells": [
  {
   "cell_type": "code",
   "execution_count": 10,
   "metadata": {},
   "outputs": [
    {
     "name": "stdout",
     "output_type": "stream",
     "text": [
      "Imagen descargada como mov1.jpg\n"
     ]
    }
   ],
   "source": [
    "import requests\n",
    "import keyboard\n",
    "\n",
    "def descargar_imagen(url, nombre_archivo):\n",
    "    response = requests.get(url)\n",
    "    if response.status_code == 200:\n",
    "        with open(nombre_archivo, 'wb') as archivo:\n",
    "            archivo.write(response.content)\n",
    "        print(f'Imagen descargada como {nombre_archivo}')\n",
    "    else:\n",
    "        print('Error al descargar la imagen')\n",
    "\n",
    "def detectar_tecla_de_espacio(e):\n",
    "    if e.name == 'space':\n",
    "        return 1\n",
    "\n",
    "\n",
    "keyboard.on_press(detectar_tecla_de_espacio)\n",
    "\n",
    "\n",
    "\n",
    "\n",
    "\n",
    "url_capturar = 'http://192.168.0.131/capture'\n",
    "url_descargar = 'http://192.168.0.131/saved-photo'\n",
    "\n",
    "\n",
    "nombre_archivo = 'mov1.jpg' \n",
    "print(\"Presione espacio para sacar la foto, escape para salir...\")\n",
    "\n",
    "while (tecla != 'esc'):\n",
    "    \n",
    "\n",
    "\n",
    "descargar_imagen(url_imagen, nombre_archivo)"
   ]
  },
  {
   "cell_type": "code",
   "execution_count": 11,
   "metadata": {},
   "outputs": [
    {
     "ename": "ImportError",
     "evalue": "You must be root to use this library on linux.",
     "output_type": "error",
     "traceback": [
      "\u001b[0;31m---------------------------------------------------------------------------\u001b[0m",
      "\u001b[0;31mImportError\u001b[0m                               Traceback (most recent call last)",
      "Cell \u001b[0;32mIn[11], line 7\u001b[0m\n\u001b[1;32m      4\u001b[0m     \u001b[39mif\u001b[39;00m e\u001b[39m.\u001b[39mname \u001b[39m==\u001b[39m \u001b[39m'\u001b[39m\u001b[39mspace\u001b[39m\u001b[39m'\u001b[39m:\n\u001b[1;32m      5\u001b[0m         \u001b[39mprint\u001b[39m(\u001b[39m\"\u001b[39m\u001b[39m¡Se presionó la tecla de espacio!\u001b[39m\u001b[39m\"\u001b[39m)\n\u001b[0;32m----> 7\u001b[0m keyboard\u001b[39m.\u001b[39;49mon_press(detectar_tecla_de_espacio)\n\u001b[1;32m      9\u001b[0m \u001b[39mprint\u001b[39m(\u001b[39m\"\u001b[39m\u001b[39mEsperando a que se presione la tecla de espacio. Presiona \u001b[39m\u001b[39m'\u001b[39m\u001b[39mEsc\u001b[39m\u001b[39m'\u001b[39m\u001b[39m para salir.\u001b[39m\u001b[39m\"\u001b[39m)\n\u001b[1;32m     10\u001b[0m keyboard\u001b[39m.\u001b[39mwait(\u001b[39m'\u001b[39m\u001b[39mesc\u001b[39m\u001b[39m'\u001b[39m)\n",
      "File \u001b[0;32m~/.local/lib/python3.10/site-packages/keyboard/__init__.py:474\u001b[0m, in \u001b[0;36mon_press\u001b[0;34m(callback, suppress)\u001b[0m\n\u001b[1;32m    470\u001b[0m \u001b[39mdef\u001b[39;00m \u001b[39mon_press\u001b[39m(callback, suppress\u001b[39m=\u001b[39m\u001b[39mFalse\u001b[39;00m):\n\u001b[1;32m    471\u001b[0m \u001b[39m    \u001b[39m\u001b[39m\"\"\"\u001b[39;00m\n\u001b[1;32m    472\u001b[0m \u001b[39m    Invokes `callback` for every KEY_DOWN event. For details see `hook`.\u001b[39;00m\n\u001b[1;32m    473\u001b[0m \u001b[39m    \"\"\"\u001b[39;00m\n\u001b[0;32m--> 474\u001b[0m     \u001b[39mreturn\u001b[39;00m hook(\u001b[39mlambda\u001b[39;49;00m e: e\u001b[39m.\u001b[39;49mevent_type \u001b[39m==\u001b[39;49m KEY_UP \u001b[39mor\u001b[39;49;00m callback(e), suppress\u001b[39m=\u001b[39;49msuppress)\n",
      "File \u001b[0;32m~/.local/lib/python3.10/site-packages/keyboard/__init__.py:461\u001b[0m, in \u001b[0;36mhook\u001b[0;34m(callback, suppress, on_remove)\u001b[0m\n\u001b[1;32m    458\u001b[0m \u001b[39melse\u001b[39;00m:\n\u001b[1;32m    459\u001b[0m     append, remove \u001b[39m=\u001b[39m _listener\u001b[39m.\u001b[39madd_handler, _listener\u001b[39m.\u001b[39mremove_handler\n\u001b[0;32m--> 461\u001b[0m append(callback)\n\u001b[1;32m    462\u001b[0m \u001b[39mdef\u001b[39;00m \u001b[39mremove_\u001b[39m():\n\u001b[1;32m    463\u001b[0m     \u001b[39mdel\u001b[39;00m _hooks[callback]\n",
      "File \u001b[0;32m~/.local/lib/python3.10/site-packages/keyboard/_generic.py:67\u001b[0m, in \u001b[0;36mGenericListener.add_handler\u001b[0;34m(self, handler)\u001b[0m\n\u001b[1;32m     62\u001b[0m \u001b[39mdef\u001b[39;00m \u001b[39madd_handler\u001b[39m(\u001b[39mself\u001b[39m, handler):\n\u001b[1;32m     63\u001b[0m \u001b[39m    \u001b[39m\u001b[39m\"\"\"\u001b[39;00m\n\u001b[1;32m     64\u001b[0m \u001b[39m    Adds a function to receive each event captured, starting the capturing\u001b[39;00m\n\u001b[1;32m     65\u001b[0m \u001b[39m    process if necessary.\u001b[39;00m\n\u001b[1;32m     66\u001b[0m \u001b[39m    \"\"\"\u001b[39;00m\n\u001b[0;32m---> 67\u001b[0m     \u001b[39mself\u001b[39;49m\u001b[39m.\u001b[39;49mstart_if_necessary()\n\u001b[1;32m     68\u001b[0m     \u001b[39mself\u001b[39m\u001b[39m.\u001b[39mhandlers\u001b[39m.\u001b[39mappend(handler)\n",
      "File \u001b[0;32m~/.local/lib/python3.10/site-packages/keyboard/_generic.py:35\u001b[0m, in \u001b[0;36mGenericListener.start_if_necessary\u001b[0;34m(self)\u001b[0m\n\u001b[1;32m     33\u001b[0m \u001b[39mtry\u001b[39;00m:\n\u001b[1;32m     34\u001b[0m     \u001b[39mif\u001b[39;00m \u001b[39mnot\u001b[39;00m \u001b[39mself\u001b[39m\u001b[39m.\u001b[39mlistening:\n\u001b[0;32m---> 35\u001b[0m         \u001b[39mself\u001b[39;49m\u001b[39m.\u001b[39;49minit()\n\u001b[1;32m     37\u001b[0m         \u001b[39mself\u001b[39m\u001b[39m.\u001b[39mlistening \u001b[39m=\u001b[39m \u001b[39mTrue\u001b[39;00m\n\u001b[1;32m     38\u001b[0m         \u001b[39mself\u001b[39m\u001b[39m.\u001b[39mlistening_thread \u001b[39m=\u001b[39m Thread(target\u001b[39m=\u001b[39m\u001b[39mself\u001b[39m\u001b[39m.\u001b[39mlisten)\n",
      "File \u001b[0;32m~/.local/lib/python3.10/site-packages/keyboard/__init__.py:196\u001b[0m, in \u001b[0;36m_KeyboardListener.init\u001b[0;34m(self)\u001b[0m\n\u001b[1;32m    195\u001b[0m \u001b[39mdef\u001b[39;00m \u001b[39minit\u001b[39m(\u001b[39mself\u001b[39m):\n\u001b[0;32m--> 196\u001b[0m     _os_keyboard\u001b[39m.\u001b[39;49minit()\n\u001b[1;32m    198\u001b[0m     \u001b[39mself\u001b[39m\u001b[39m.\u001b[39mactive_modifiers \u001b[39m=\u001b[39m \u001b[39mset\u001b[39m()\n\u001b[1;32m    199\u001b[0m     \u001b[39mself\u001b[39m\u001b[39m.\u001b[39mblocking_hooks \u001b[39m=\u001b[39m []\n",
      "File \u001b[0;32m~/.local/lib/python3.10/site-packages/keyboard/_nixkeyboard.py:113\u001b[0m, in \u001b[0;36minit\u001b[0;34m()\u001b[0m\n\u001b[1;32m    112\u001b[0m \u001b[39mdef\u001b[39;00m \u001b[39minit\u001b[39m():\n\u001b[0;32m--> 113\u001b[0m     build_device()\n\u001b[1;32m    114\u001b[0m     build_tables()\n",
      "File \u001b[0;32m~/.local/lib/python3.10/site-packages/keyboard/_nixkeyboard.py:109\u001b[0m, in \u001b[0;36mbuild_device\u001b[0;34m()\u001b[0m\n\u001b[1;32m    107\u001b[0m \u001b[39mglobal\u001b[39;00m device\n\u001b[1;32m    108\u001b[0m \u001b[39mif\u001b[39;00m device: \u001b[39mreturn\u001b[39;00m\n\u001b[0;32m--> 109\u001b[0m ensure_root()\n\u001b[1;32m    110\u001b[0m device \u001b[39m=\u001b[39m aggregate_devices(\u001b[39m'\u001b[39m\u001b[39mkbd\u001b[39m\u001b[39m'\u001b[39m)\n",
      "File \u001b[0;32m~/.local/lib/python3.10/site-packages/keyboard/_nixcommon.py:174\u001b[0m, in \u001b[0;36mensure_root\u001b[0;34m()\u001b[0m\n\u001b[1;32m    172\u001b[0m \u001b[39mdef\u001b[39;00m \u001b[39mensure_root\u001b[39m():\n\u001b[1;32m    173\u001b[0m     \u001b[39mif\u001b[39;00m os\u001b[39m.\u001b[39mgeteuid() \u001b[39m!=\u001b[39m \u001b[39m0\u001b[39m:\n\u001b[0;32m--> 174\u001b[0m         \u001b[39mraise\u001b[39;00m \u001b[39mImportError\u001b[39;00m(\u001b[39m'\u001b[39m\u001b[39mYou must be root to use this library on linux.\u001b[39m\u001b[39m'\u001b[39m)\n",
      "\u001b[0;31mImportError\u001b[0m: You must be root to use this library on linux."
     ]
    }
   ],
   "source": [
    "import keyboard\n",
    "\n",
    "def detectar_tecla_de_espacio(e):\n",
    "    if e.name == 'space':\n",
    "        print(\"¡Se presionó la tecla de espacio!\")\n",
    "\n",
    "keyboard.on_press(detectar_tecla_de_espacio)\n",
    "\n",
    "print(\"Esperando a que se presione la tecla de espacio. Presiona 'Esc' para salir.\")\n",
    "keyboard.wait('esc')"
   ]
  }
 ],
 "metadata": {
  "kernelspec": {
   "display_name": "Python 3",
   "language": "python",
   "name": "python3"
  },
  "language_info": {
   "codemirror_mode": {
    "name": "ipython",
    "version": 3
   },
   "file_extension": ".py",
   "mimetype": "text/x-python",
   "name": "python",
   "nbconvert_exporter": "python",
   "pygments_lexer": "ipython3",
   "version": "3.10.12"
  },
  "orig_nbformat": 4
 },
 "nbformat": 4,
 "nbformat_minor": 2
}
