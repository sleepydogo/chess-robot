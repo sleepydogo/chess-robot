{
 "cells": [
  {
   "cell_type": "code",
   "execution_count": 17,
   "metadata": {},
   "outputs": [
    {
     "ename": "TypeError",
     "evalue": "create_comand() missing 1 required positional argument: 'verbose'",
     "output_type": "error",
     "traceback": [
      "\u001b[0;31m---------------------------------------------------------------------------\u001b[0m",
      "\u001b[0;31mTypeError\u001b[0m                                 Traceback (most recent call last)",
      "Cell \u001b[0;32mIn[17], line 15\u001b[0m\n\u001b[1;32m     12\u001b[0m     \u001b[39mif\u001b[39;00m verbose: \u001b[39mprint\u001b[39m(command)\n\u001b[1;32m     13\u001b[0m     \u001b[39mreturn\u001b[39;00m command\u001b[39m.\u001b[39mencode()\n\u001b[0;32m---> 15\u001b[0m command \u001b[39m=\u001b[39m create_comand(\u001b[39m1\u001b[39;49m,\u001b[39m2\u001b[39;49m)\n",
      "\u001b[0;31mTypeError\u001b[0m: create_comand() missing 1 required positional argument: 'verbose'"
     ]
    }
   ],
   "source": [
    "import csv\n",
    "\n",
    "with open(\"rutinas-movimiento.csv\", \"r\") as csvfile:\n",
    "    csv_reader = csv.reader(csvfile)\n",
    "    data = []\n",
    "    for row in csv_reader:\n",
    "        data.append(row)\n",
    "\n",
    "def create_comand(row, col, verbose=False):\n",
    "    posx, posy = data[row][col].split(';')\n",
    "    command = 'G1 '+ posx + ' ' + posy + ' Z110 \\r\\n'\n",
    "    if verbose: print(command)\n",
    "    return command.encode()\n",
    "\n",
    "command = create_comand(1,2)\n",
    "\n",
    "\n"
   ]
  }
 ],
 "metadata": {
  "kernelspec": {
   "display_name": "Python 3",
   "language": "python",
   "name": "python3"
  },
  "language_info": {
   "codemirror_mode": {
    "name": "ipython",
    "version": 3
   },
   "file_extension": ".py",
   "mimetype": "text/x-python",
   "name": "python",
   "nbconvert_exporter": "python",
   "pygments_lexer": "ipython3",
   "version": "3.10.12"
  },
  "orig_nbformat": 4
 },
 "nbformat": 4,
 "nbformat_minor": 2
}
