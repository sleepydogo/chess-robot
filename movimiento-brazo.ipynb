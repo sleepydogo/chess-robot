{
 "cells": [
  {
   "attachments": {},
   "cell_type": "markdown",
   "metadata": {},
   "source": [
    "## Rutinas de movimiento del brazo\n",
    "\n",
    "Ambiente de prueba para crear las rutinas del brazo robotico.\n",
    " \n",
    "El brazo se controla mediante GCode.    "
   ]
  },
  {
   "cell_type": "code",
   "execution_count": 2,
   "metadata": {},
   "outputs": [
    {
     "name": "stdout",
     "output_type": "stream",
     "text": [
      "b'INFO: ROBOT ONLINE\\r\\n'\n"
     ]
    },
    {
     "data": {
      "text/plain": [
       "17"
      ]
     },
     "execution_count": 2,
     "metadata": {},
     "output_type": "execute_result"
    }
   ],
   "source": [
    "import serial, time\n",
    "\n",
    "arduino = serial.Serial('/dev/ttyACM0', 115200)\n",
    "\n",
    "time.sleep(2)\n",
    "\n",
    "recepcion = arduino.readline()\n",
    "\n",
    "print(recepcion)\n",
    "\n",
    "arduino.write(\"G28\\r\\n\".encode())\n",
    "\n",
    "arduino.write(\"G1 X20 Y340 Z-60\\r\\n\".encode())\n",
    "\n",
    "\n",
    "#arduino.write(\"G1 Y320\\r\\n\".encode())\n",
    "#\n",
    "#arduino.write(\"G1 Z-60\\r\\n\".encode())\n",
    "#\n",
    "#arduino.write(\"G1 Y340\\r\\n\".encode())\n",
    "#\n",
    "arduino.write(\"M3\\r\\n\".encode())\n",
    "\n",
    "arduino.write(\"G1 Z0 Y279\\r\\n\".encode())\n",
    "\n",
    "arduino.write(\"G1 Z-60\\r\\n\".encode())\n",
    "\n",
    "arduino.write(\"M5\\r\\n\".encode())\n",
    "time.sleep(2)\n",
    "arduino.write(\"G1 Z180 Y240 X0\\r\\n\".encode())\n"
   ]
  },
  {
   "cell_type": "code",
   "execution_count": 8,
   "metadata": {},
   "outputs": [],
   "source": [
    "arduino.write(\"G28\\r\\n\".encode())\n",
    "\n",
    "for i in range(3):\n",
    "    arduino.write(str(\"G1 X\" + str(-25+(i*45))+ \" Y335 Z-60\\r\\n\").encode())\n",
    "\n",
    "    arduino.write(\"M3\\r\\n\".encode())\n",
    "\n",
    "    arduino.write(\"G1 Z0 Y279\\r\\n\".encode())\n",
    "\n",
    "    arduino.write(\"G1 Z-60\\r\\n\".encode())\n",
    "\n",
    "    arduino.write(\"M5\\r\\n\".encode())\n",
    "    time.sleep(2)\n",
    "    arduino.write(\"G28\\r\\n\".encode())\n"
   ]
  },
  {
   "cell_type": "code",
   "execution_count": null,
   "metadata": {},
   "outputs": [],
   "source": [
    "arduino.close()"
   ]
  },
  {
   "cell_type": "code",
   "execution_count": null,
   "metadata": {},
   "outputs": [],
   "source": [
    "for i in range(8):\n",
    "    \n"
   ]
  },
  {
   "cell_type": "code",
   "execution_count": 9,
   "metadata": {},
   "outputs": [
    {
     "name": "stdout",
     "output_type": "stream",
     "text": [
      "r n b q k b n r\n",
      "p p p p p p p p\n",
      ". . . . . . . .\n",
      ". . . . . . . .\n",
      ". . . . P . . .\n",
      ". . . . . . . .\n",
      "P P P P . P P P\n",
      "R N B Q K B N R\n",
      "\n",
      "\n",
      "r n b q k b n r\n",
      "p p p p . p p p\n",
      ". . . . . . . .\n",
      ". . . . p . . .\n",
      ". . . . P . . .\n",
      ". . . . . . . .\n",
      "P P P P . P P P\n",
      "R N B Q K B N R\n",
      "Movimiento a realizar --> e7e5\n",
      "\n",
      "<PlayResult at 0x7f2758132680 (move=e7e5, ponder=g1f3, info={}, draw_offered=False, resigned=False)>\n"
     ]
    }
   ],
   "source": [
    "import chess, chess.engine\n",
    "import os\n",
    "\n",
    "engine = chess.engine.SimpleEngine.popen_uci(os.getcwd() + \"/Stockfish/src/stockfish\")\n",
    "tablero = chess.Board(\"rnbqkbnr/pppppppp/8/8/4P3/8/PPPP1PPP/RNBQKBNR b KQkq e3 0 1\")\n",
    "print(tablero)\n",
    "print(\"\\n\")\n",
    "result = engine.play(tablero, chess.engine.Limit(time=0.5))  \n",
    "tablero.push_san(str(result.move))\n",
    "print(tablero)\n",
    "print(\"Movimiento a realizar --> \" + str(result.move) + \"\\n\")\n",
    "print(result)\n",
    "engine.quit()\n",
    "    "
   ]
  }
 ],
 "metadata": {
  "kernelspec": {
   "display_name": "Python 3",
   "language": "python",
   "name": "python3"
  },
  "language_info": {
   "codemirror_mode": {
    "name": "ipython",
    "version": 3
   },
   "file_extension": ".py",
   "mimetype": "text/x-python",
   "name": "python",
   "nbconvert_exporter": "python",
   "pygments_lexer": "ipython3",
   "version": "3.10.6"
  },
  "orig_nbformat": 4
 },
 "nbformat": 4,
 "nbformat_minor": 2
}
