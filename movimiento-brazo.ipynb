{
 "cells": [
  {
   "attachments": {},
   "cell_type": "markdown",
   "metadata": {},
   "source": [
    "## Rutinas de movimiento del brazo\n",
    "\n",
    "Ambiente de prueba para crear las rutinas del brazo robotico.\n",
    " \n",
    "El brazo se controla mediante GCode.    "
   ]
  },
  {
   "cell_type": "code",
   "execution_count": 12,
   "metadata": {},
   "outputs": [],
   "source": [
    "\n",
    "import serial\n",
    "import time\n",
    "import csv\n",
    "\n",
    "\n",
    "class RoboticArm:\n",
    "\n",
    "    arduino = None\n",
    "    data = None\n",
    "    \n",
    "    calibrar_STR =  'G28 \\r\\n'.encode()\n",
    "    cerrar_STR =    'M3 \\r\\n'.encode()\n",
    "    abrir_STR =     'M5 \\r\\n'.encode()\n",
    "    HOME = 'G1 X0 Y240 Z180 \\r\\n'.encode()\n",
    "    REST = 'G1 X0 Y100 Z150 \\r\\n'.encode()\n",
    "\n",
    "    # Estas son las alturas a las que se posiciona la pinza\n",
    "    z_superior = [85,120,130]   # por encima de la pieza\n",
    "    z_inferior = [60, 70]       # lo que debe bajar para agarrarla \n",
    "    \n",
    "    # Division de filas por las alturas de posicionamiento\n",
    "    filas_bajas = [0,1,2]\n",
    "    filas_medias = [3,4,5]\n",
    "    filas_altas = [6,7]\n",
    "    def create_comand(self, row, col, verbose=False):\n",
    "        posx, posy = self.data[row][col].split(';')\n",
    "        command = 'G1 '+ posx + ' ' + posy + ' Z60'\n",
    "        if verbose: print(command)\n",
    "        return command.encode()\n",
    "\n",
    "\n",
    "    def calibrar(self):\n",
    "        print('calibrando...')\n",
    "        self.arduino.write(self.calibrar_STR)\n",
    "        self.arduino.readline()\n",
    "        self.arduino.write(self.REST)\n",
    "        self.arduino.readline()\n",
    "        return\n",
    "\n",
    "    def abrirPinza(self): \n",
    "        self.arduino.write(self.abrir_STR)\n",
    "        self.arduino.readline()\n",
    "        return\n",
    "\n",
    "    def cerrarPinza(self): \n",
    "        self.arduino.write(self.cerrar_STR)\n",
    "        self.arduino.readline()\n",
    "        return\n",
    "    \n",
    "    def home(self):\n",
    "        self.arduino.write(self.HOME)\n",
    "        self.arduino.readline()\n",
    "        time.sleep(0.5)\n",
    "        self.arduino.write(self.REST)\n",
    "        self.arduino.readline()\n",
    "\n",
    "    def init(self):\n",
    "        def create_matrix():\n",
    "            with open(\"rutinas-movimiento.csv\", \"r\") as csvfile:\n",
    "                csv_reader = csv.reader(csvfile)\n",
    "                data = []\n",
    "                for row in csv_reader:\n",
    "                    data.append(row)\n",
    "            return data\n",
    "        self.arduino = serial.Serial('/dev/ttyACM0', 115200, timeout=1)\n",
    "        self.data = create_matrix()\n",
    "        self.arduino.reset_output_buffer()\n",
    "        message = self.arduino.readline().decode('UTF-8')\n",
    "        print(message)\n",
    "        self.abrirPinza()\n",
    "        self.cerrarPinza()\n",
    "        self.abrirPinza()\n",
    "        self.calibrar()\n",
    "    \n",
    "    def bajarPinza(self, posx_ini):\n",
    "        if (posx_ini in self.filas_bajas):\n",
    "            self.arduino.write()\n",
    "        \n",
    "    def posicionamiento_origen(self, x, y, verbose=False):\n",
    "        posx, posy = self.data[x][y].split(';')\n",
    "        command = 'G1 '+ posx + ' ' + posy\n",
    "        if x in self.filas_bajas: \n",
    "            command = command + ' Z85 \\r\\n'\n",
    "        elif x in self.filas_medias: \n",
    "            command = command + ' Z120 \\r\\n'\n",
    "        else: \n",
    "            command = command + ' Z130 \\r\\n'\n",
    "        if verbose: print(command)\n",
    "        return command.encode()\n",
    "\n",
    "    def bajarPinza(self, x):\n",
    "        if x in self.filas_bajas: \n",
    "            self.arduino.write('G1 Z60 \\r\\n'.encode())\n",
    "        else:\n",
    "            self.arduino.write('G1 Z70 \\r\\n'.encode())\n",
    "\n",
    "\n",
    "    def mover(self, posx_ini, posy_ini, posx_fin, posy_fin):\n",
    "        command = self.posicionamiento_origen(posx_ini, posy_ini)\n",
    "        self.arduino.write(command)\n",
    "        self.bajarPinza(posx_ini)\n",
    "        self.abrirPinza()\n",
    "        self.cerrarPinza()\n",
    "        self.arduino.write('G1 Z160 \\r\\n'.encode())\n",
    "        command = self.posicionamiento_origen(posx_fin, posy_fin)\n",
    "        self.arduino.write(command)\n",
    "        self.bajarPinza(posx_ini)\n",
    "        self.cerrarPinza()\n",
    "        self.abrirPinza()\n",
    "        self.arduino.write('G1 Z130 \\r\\n'.encode())\n",
    "        self.home()\n",
    "        return 0\n",
    "\n",
    "\n",
    "    def close(self):\n",
    "        self.arduino.close()\n",
    "        print('Se ha cerrado la conexion serial exitosamente..')\n",
    "\n",
    "    def sacarPieza(self, posx_ini, posy_ini):\n",
    "        command = self.posicionamiento_origen(posx_ini, posy_ini)\n",
    "        self.arduino.write(command + 'M3 \\r\\n'.encode() + 'G1 Z160 \\r\\n'.encode() + 'G1 X-170 Y220 \\r\\n'.encode())\n",
    "        self.home()\n",
    "\n",
    "    def calibrar2(self):\n",
    "        command = self.posicionamiento_origen(0,0) + self.posicionamiento_origen(0,7) + self.posicionamiento_origen(7,0) + self.posicionamiento_origen(7,7)\n",
    "        self.arduino.write(command)\n",
    "        self.arduino.readline()"
   ]
  },
  {
   "cell_type": "code",
   "execution_count": 3,
   "metadata": {},
   "outputs": [],
   "source": [
    "arm = RoboticArm()"
   ]
  },
  {
   "cell_type": "code",
   "execution_count": 6,
   "metadata": {},
   "outputs": [
    {
     "name": "stdout",
     "output_type": "stream",
     "text": [
      "INFO: HOMING YX...\n",
      "\n",
      "calibrando...\n"
     ]
    }
   ],
   "source": [
    "arm.init()"
   ]
  },
  {
   "cell_type": "code",
   "execution_count": 13,
   "metadata": {},
   "outputs": [],
   "source": [
    "arm.calibrar2()"
   ]
  },
  {
   "cell_type": "code",
   "execution_count": 9,
   "metadata": {},
   "outputs": [
    {
     "name": "stdout",
     "output_type": "stream",
     "text": [
      "r n b q k b n r\n",
      "p p p p p p p p\n",
      ". . . . . . . .\n",
      ". . . . . . . .\n",
      ". . . . P . . .\n",
      ". . . . . . . .\n",
      "P P P P . P P P\n",
      "R N B Q K B N R\n",
      "\n",
      "\n",
      "r n b q k b n r\n",
      "p p p p . p p p\n",
      ". . . . . . . .\n",
      ". . . . p . . .\n",
      ". . . . P . . .\n",
      ". . . . . . . .\n",
      "P P P P . P P P\n",
      "R N B Q K B N R\n",
      "Movimiento a realizar --> e7e5\n",
      "\n",
      "<PlayResult at 0x7f2758132680 (move=e7e5, ponder=g1f3, info={}, draw_offered=False, resigned=False)>\n"
     ]
    }
   ],
   "source": [
    "arm.close()"
   ]
  }
 ],
 "metadata": {
  "kernelspec": {
   "display_name": "Python 3",
   "language": "python",
   "name": "python3"
  },
  "language_info": {
   "codemirror_mode": {
    "name": "ipython",
    "version": 3
   },
   "file_extension": ".py",
   "mimetype": "text/x-python",
   "name": "python",
   "nbconvert_exporter": "python",
   "pygments_lexer": "ipython3",
   "version": "3.10.6"
  },
  "orig_nbformat": 4
 },
 "nbformat": 4,
 "nbformat_minor": 2
}
