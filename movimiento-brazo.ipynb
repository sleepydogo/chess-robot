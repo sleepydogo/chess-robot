{
 "cells": [
  {
   "attachments": {},
   "cell_type": "markdown",
   "metadata": {},
   "source": [
    "## Rutinas de movimiento del brazo\n",
    "\n",
    "Ambiente de prueba para crear las rutinas del brazo robotico.\n",
    " \n",
    "El brazo se controla mediante GCode.    "
   ]
  },
  {
   "cell_type": "code",
   "execution_count": null,
   "metadata": {},
   "outputs": [],
   "source": [
    "import serial, time\n",
    "\n",
    "arduino = serial.Serial('COM4', 115200)\n",
    "\n",
    "time.sleep(2)\n",
    "\n",
    "recepcion = arduino.readline()\n",
    "\n",
    "print(recepcion)\n",
    "\n",
    "arduino.close()"
   ]
  }
 ],
 "metadata": {
  "language_info": {
   "name": "python"
  },
  "orig_nbformat": 4
 },
 "nbformat": 4,
 "nbformat_minor": 2
}
