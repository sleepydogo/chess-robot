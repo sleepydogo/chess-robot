{
 "cells": [
  {
   "cell_type": "code",
   "execution_count": 39,
   "metadata": {},
   "outputs": [],
   "source": [
    "import cv2\n",
    "import numpy as np\n",
    "import requests\n",
    "import time\n",
    "import os\n",
    "\n",
    "verbose = False\n",
    "\n"
   ]
  },
  {
   "cell_type": "code",
   "execution_count": 40,
   "metadata": {},
   "outputs": [],
   "source": [
    "# Recibe una imagen como parametro aplica una mascara que binariza los colores rojos.\n",
    "def detectar_color_rojo(img):\n",
    "    imagen_hsv = cv2.cvtColor(img, cv2.COLOR_BGR2HSV)\n",
    "\n",
    "    # Definir el rango de rojo en el espacio de color HSV\n",
    "    rojo_bajo = np.array([0, 100, 100])\n",
    "    rojo_alto = np.array([15, 255, 255])\n",
    "\n",
    "    rojo_bajo1 = np.array([165, 100, 100])\n",
    "    rojo_alto1 = np.array([179, 255, 255])\n",
    "\n",
    "    # Crea una máscara para los píxeles que caen dentro del rango de rojo\n",
    "    mascara1= cv2.inRange(imagen_hsv, rojo_bajo, rojo_alto)\n",
    "    mascara2 = cv2.inRange(imagen_hsv, rojo_bajo1, rojo_alto1)\n",
    "\n",
    "    mascara = cv2.add(mascara1, mascara2)\n",
    "\n",
    "    return mascara\n",
    "\n",
    "# Recibe una imagen como parametro aplica una mascara que binariza los colores negros\n",
    "def detectar_color_negro(img):\n",
    "    # Convierte la imagen a espacio de color HSV\n",
    "    imagen_hsv = cv2.cvtColor(img, cv2.COLOR_BGR2HSV)\n",
    "\n",
    "    # Definir el rango de rojo en el espacio de color HSV\n",
    "    negro_bajo = np.array([0, 0, 0])\n",
    "    negro_alto = np.array([179, 255, 80])\n",
    "\n",
    "    # Crea una máscara para los píxeles que caen dentro del rango de rojo\n",
    "    mascara = cv2.inRange(imagen_hsv, negro_bajo, negro_alto)\n",
    "\n",
    "    return mascara\n",
    "\n"
   ]
  },
  {
   "cell_type": "code",
   "execution_count": 41,
   "metadata": {},
   "outputs": [
    {
     "name": "stdout",
     "output_type": "stream",
     "text": [
      "Imagen capturada, esperando a que sea procesada por el MCU\n",
      "\n",
      "Imagen descargada como /home/tom/universidad/chessboard-cv/temp.jpg\n",
      "\n"
     ]
    },
    {
     "data": {
      "text/plain": [
       "True"
      ]
     },
     "execution_count": 41,
     "metadata": {},
     "output_type": "execute_result"
    }
   ],
   "source": [
    "def encontrar_contornos_pieza(image, mask, area_max=6000, area_min=200):\n",
    "    retorno = image.copy()\n",
    "    contorno,_ = cv2.findContours(mask,cv2.RETR_EXTERNAL,cv2.CHAIN_APPROX_SIMPLE)\n",
    "    \n",
    "    grid_contours = []   \n",
    "    for contour in contorno:\n",
    "        if area_max > cv2.contourArea(contour) > area_min:\n",
    "            grid_contours.append(contour)\n",
    "    return len(grid_contours)\n",
    "\n",
    "def detectar_pieza(casilla1, area_max=6000, area_min=900):\n",
    "    mascara_negra = detectar_color_negro(casilla1.copy())\n",
    "    mascara_roja = detectar_color_rojo(casilla1.copy())\n",
    "\n",
    "    cantidad_contornos = encontrar_contornos_pieza(casilla1, mascara_negra, area_max, area_min)\n",
    "\n",
    "    if cantidad_contornos > 0:\n",
    "        if verbose: print('Pieza detectada')\n",
    "        return 1\n",
    "    else:\n",
    "        cantidad_contornos = encontrar_contornos_pieza(casilla1, mascara_roja, area_max, area_min)\n",
    "\n",
    "        if cantidad_contornos > 0:\n",
    "            if verbose: print('Pieza detectada')\n",
    "            return 2\n",
    "        else:\n",
    "            if verbose: print('Casillero vacio')\n",
    "            return 0    \n",
    "\n",
    "def solicitar_foto(ruta):\n",
    "    requests.get('http://192.168.0.131/capture')\n",
    "    print(\"Imagen capturada, esperando a que sea procesada por el MCU\\n\")\n",
    "    time.sleep(7)\n",
    "    response = requests.get('http://192.168.0.131/saved-photo')\n",
    "    time.sleep(2)\n",
    "    if response.status_code == 200:\n",
    "        with open(ruta, 'wb') as archivo:\n",
    "            archivo.write(response.content)\n",
    "        # Rotacion de imagen\n",
    "        imagen = cv2.imread(ruta)\n",
    "        angulo_rotacion = 90\n",
    "        alto, ancho = imagen.shape[:2]\n",
    "        centro = (ancho // 2, alto // 2)\n",
    "        matriz_rotacion = cv2.getRotationMatrix2D(centro, angulo_rotacion, 1.0)\n",
    "        imagen_rotada = cv2.warpAffine(imagen, matriz_rotacion, (ancho, alto))\n",
    "        cv2.imwrite(ruta, imagen_rotada)\n",
    "        \n",
    "        print(f'Imagen descargada como {ruta}\\n')\n",
    "    else:\n",
    "        print('Error al descargar la imagen')\n",
    "\n",
    "def recortar_casillero(image, i, j):\n",
    "    width = image.shape[1]\n",
    "    height = image.shape[0]\n",
    "    start_y = int((height/8)*i)\n",
    "    end_y = int((height/8)*i+(height/8))\n",
    "    start_x = int((width/8)*j)\n",
    "    end_x = int((width/8)*j+(width/8))\n",
    "    casillero = image[start_y:end_y, start_x:end_x].copy()\n",
    "    return casillero\n",
    "\n",
    "def leer_recorte_tablero(filename):\n",
    "    valores = []\n",
    "    try:\n",
    "        # Abre el archivo en modo lectura\n",
    "        with open(filename, 'r') as archivo:\n",
    "            for linea in archivo:\n",
    "                valor = int(linea.strip())\n",
    "                valores.append(valor)\n",
    "    except FileNotFoundError:\n",
    "        print(f\"El archivo '{filename}' no se encontró.\")\n",
    "    return valores\n",
    "\n",
    "def mostrar_contornos(img,min,max):\n",
    "    # Aplicar deteccion de bordes utilizando Canny\n",
    "    edges = cv2.Canny(img, min, max, apertureSize=3)\n",
    "    if verbose:\n",
    "        cv2.imshow('Detector de contornos', edges)\n",
    "        cv2.waitKey(0)  \n",
    "        cv2.destroyAllWindows()\n",
    "    return edges\n",
    "\n",
    "def rotar_imagen(img):\n",
    "    # Convertimos la imagen a gris\n",
    "    img_gray = cv2.cvtColor(img, cv2.COLOR_BGR2GRAY).copy()\n",
    "\n",
    "    if verbose: \n",
    "        cv2.imshow('Imagen en blanco y negro', img_gray)\n",
    "        cv2.waitKey()\n",
    "        cv2.destroyAllWindows()\n",
    "\n",
    "    # Aplicar deteccion de bordes utilizando Canny\n",
    "    edges = mostrar_contornos(img_gray, 150, 300)\n",
    "\n",
    "    if verbose: \n",
    "        cv2.imshow('Contornos detectados', edges)\n",
    "        cv2.waitKey()\n",
    "        cv2.destroyAllWindows()\n",
    "\n",
    "    # Encontrar las lineas presentes en la imagen utilizando la transformada de Hough\n",
    "    lines = cv2.HoughLinesP(edges, 1, np.pi/180, threshold=100, minLineLength=100, maxLineGap=10)\n",
    "\n",
    "    # Calcular el angulo promedio solo de las líneas horizontales detectadas\n",
    "    angle = np.mean([np.arctan2(line[0][3] - line[0][1], line[0][2] - line[0][0]) for line in lines if abs(line[0][3] - line[0][1]) < abs(line[0][2] - line[0][0])])\n",
    "\n",
    "    # Rotar la imagen utilizando el ángulo calculado\n",
    "    (h, w) = img_gray.shape[:2]\n",
    "    center = (w // 2, h // 2)\n",
    "    M = cv2.getRotationMatrix2D(center, angle * 180 / np.pi, 1.0)\n",
    "    rotated = cv2.warpAffine(img, M, (w, h), flags=cv2.INTER_CUBIC, borderMode=cv2.BORDER_REPLICATE)\n",
    "\n",
    "    if verbose: \n",
    "        cv2.imshow('Imagen rotada', rotated)\n",
    "        cv2.waitKey(0)\n",
    "        cv2.destroyAllWindows()\n",
    "    \n",
    "    return rotated\n",
    "\n",
    "config = leer_recorte_tablero('config.log')\n",
    "\n",
    "x_initial = config[0]\n",
    "x_release = config[1]\n",
    "y_initial = config[2]\n",
    "y_release = config[3]\n",
    "\n",
    "ruta = os.getcwd() + '/temp.jpg'\n",
    "\n",
    "solicitar_foto(ruta)\n",
    "\n",
    "image = cv2.imread(ruta)\n",
    "image = rotar_imagen(image)\n",
    "image = image[(y_initial):(y_release), (x_initial):(x_release)].copy()\n",
    "image = rotar_imagen(image)\n",
    "cv2.imwrite(ruta, image)"
   ]
  },
  {
   "cell_type": "code",
   "execution_count": 44,
   "metadata": {},
   "outputs": [
    {
     "name": "stdout",
     "output_type": "stream",
     "text": [
      "[[1 1 1 1 1 1 1 1]\n",
      " [1 0 1 0 1 0 1 1]\n",
      " [0 0 0 0 0 0 0 0]\n",
      " [0 0 0 0 0 0 0 0]\n",
      " [0 0 0 0 0 0 0 0]\n",
      " [0 0 0 0 0 0 0 0]\n",
      " [2 2 2 0 2 2 2 2]\n",
      " [2 2 2 2 2 2 2 2]]\n"
     ]
    }
   ],
   "source": [
    "matriz_numerica_t1 = np.zeros((8, 8), dtype=int)\n",
    "for i in range(8):\n",
    "    for j in range(8):\n",
    "        casillero = recortar_casillero(image, i,j)\n",
    "        #areas\n",
    "        matriz_numerica_t1[i][j] = detectar_pieza(casillero, 6500, 700)\n",
    "\n",
    "print(matriz_numerica_t1)"
   ]
  },
  {
   "cell_type": "code",
   "execution_count": 43,
   "metadata": {},
   "outputs": [
    {
     "data": {
      "text/plain": [
       "2"
      ]
     },
     "execution_count": 43,
     "metadata": {},
     "output_type": "execute_result"
    }
   ],
   "source": [
    "casillero = recortar_casillero(image, 6,0)\n",
    "detectar_pieza(casillero, 6500, 700)"
   ]
  }
 ],
 "metadata": {
  "kernelspec": {
   "display_name": "Python 3",
   "language": "python",
   "name": "python3"
  },
  "language_info": {
   "codemirror_mode": {
    "name": "ipython",
    "version": 3
   },
   "file_extension": ".py",
   "mimetype": "text/x-python",
   "name": "python",
   "nbconvert_exporter": "python",
   "pygments_lexer": "ipython3",
   "version": "3.10.12"
  },
  "orig_nbformat": 4
 },
 "nbformat": 4,
 "nbformat_minor": 2
}
